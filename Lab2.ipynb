{
 "cells": [
  {
   "cell_type": "code",
   "execution_count": 34,
   "id": "9203598e-68d5-496c-a3d5-66c1ed72b4f0",
   "metadata": {},
   "outputs": [
    {
     "name": "stdout",
     "output_type": "stream",
     "text": [
      "env: QXToken=YOUR_TOKEN\n"
     ]
    }
   ],
   "source": [
    "%set_env QXToken=YOUR_TOKEN"
   ]
  },
  {
   "cell_type": "markdown",
   "id": "02188d6f-171b-4949-85ba-88b419b6eb0c",
   "metadata": {},
   "source": [
    "# 1"
   ]
  },
  {
   "cell_type": "code",
   "execution_count": 3,
   "id": "a90511e4-3c40-4d5f-a8fd-41f6f5d2194e",
   "metadata": {},
   "outputs": [
    {
     "name": "stdout",
     "output_type": "stream",
     "text": [
      "Requirement already satisfied: qiskit_ibm_runtime in c:\\users\\admin\\miniconda3\\envs\\qiskit\\lib\\site-packages (0.23.0)Note: you may need to restart the kernel to use updated packages.\n",
      "\n",
      "Requirement already satisfied: requests>=2.19 in c:\\users\\admin\\miniconda3\\envs\\qiskit\\lib\\site-packages (from qiskit_ibm_runtime) (2.31.0)\n",
      "Requirement already satisfied: requests-ntlm>=1.1.0 in c:\\users\\admin\\miniconda3\\envs\\qiskit\\lib\\site-packages (from qiskit_ibm_runtime) (1.2.0)\n",
      "Requirement already satisfied: numpy>=1.13 in c:\\users\\admin\\miniconda3\\envs\\qiskit\\lib\\site-packages (from qiskit_ibm_runtime) (1.26.4)\n",
      "Requirement already satisfied: urllib3>=1.21.1 in c:\\users\\admin\\miniconda3\\envs\\qiskit\\lib\\site-packages (from qiskit_ibm_runtime) (2.2.1)\n",
      "Requirement already satisfied: python-dateutil>=2.8.0 in c:\\users\\admin\\appdata\\roaming\\python\\python312\\site-packages (from qiskit_ibm_runtime) (2.8.2)\n",
      "Requirement already satisfied: websocket-client>=1.5.1 in c:\\users\\admin\\miniconda3\\envs\\qiskit\\lib\\site-packages (from qiskit_ibm_runtime) (1.8.0)\n",
      "Requirement already satisfied: ibm-platform-services>=0.22.6 in c:\\users\\admin\\miniconda3\\envs\\qiskit\\lib\\site-packages (from qiskit_ibm_runtime) (0.53.6)\n",
      "Requirement already satisfied: pydantic in c:\\users\\admin\\miniconda3\\envs\\qiskit\\lib\\site-packages (from qiskit_ibm_runtime) (2.7.1)\n",
      "Requirement already satisfied: qiskit>=1.0.0 in c:\\users\\admin\\miniconda3\\envs\\qiskit\\lib\\site-packages (from qiskit_ibm_runtime) (1.1.0)\n",
      "Requirement already satisfied: ibm-cloud-sdk-core<4.0.0,>=3.19.2 in c:\\users\\admin\\miniconda3\\envs\\qiskit\\lib\\site-packages (from ibm-platform-services>=0.22.6->qiskit_ibm_runtime) (3.20.0)\n",
      "Requirement already satisfied: six>=1.5 in c:\\users\\admin\\appdata\\roaming\\python\\python312\\site-packages (from python-dateutil>=2.8.0->qiskit_ibm_runtime) (1.16.0)\n",
      "Requirement already satisfied: rustworkx>=0.14.0 in c:\\users\\admin\\miniconda3\\envs\\qiskit\\lib\\site-packages (from qiskit>=1.0.0->qiskit_ibm_runtime) (0.14.2)\n",
      "Requirement already satisfied: scipy>=1.5 in c:\\users\\admin\\miniconda3\\envs\\qiskit\\lib\\site-packages (from qiskit>=1.0.0->qiskit_ibm_runtime) (1.13.0)\n",
      "Requirement already satisfied: sympy>=1.3 in c:\\users\\admin\\miniconda3\\envs\\qiskit\\lib\\site-packages (from qiskit>=1.0.0->qiskit_ibm_runtime) (1.12)\n",
      "Requirement already satisfied: dill>=0.3 in c:\\users\\admin\\miniconda3\\envs\\qiskit\\lib\\site-packages (from qiskit>=1.0.0->qiskit_ibm_runtime) (0.3.8)\n",
      "Requirement already satisfied: stevedore>=3.0.0 in c:\\users\\admin\\miniconda3\\envs\\qiskit\\lib\\site-packages (from qiskit>=1.0.0->qiskit_ibm_runtime) (5.2.0)\n",
      "Requirement already satisfied: typing-extensions in c:\\users\\admin\\miniconda3\\envs\\qiskit\\lib\\site-packages (from qiskit>=1.0.0->qiskit_ibm_runtime) (4.11.0)\n",
      "Requirement already satisfied: symengine>=0.11 in c:\\users\\admin\\miniconda3\\envs\\qiskit\\lib\\site-packages (from qiskit>=1.0.0->qiskit_ibm_runtime) (0.11.0)\n",
      "Requirement already satisfied: charset-normalizer<4,>=2 in c:\\users\\admin\\miniconda3\\envs\\qiskit\\lib\\site-packages (from requests>=2.19->qiskit_ibm_runtime) (3.3.2)\n",
      "Requirement already satisfied: idna<4,>=2.5 in c:\\users\\admin\\miniconda3\\envs\\qiskit\\lib\\site-packages (from requests>=2.19->qiskit_ibm_runtime) (3.7)\n",
      "Requirement already satisfied: certifi>=2017.4.17 in c:\\users\\admin\\miniconda3\\envs\\qiskit\\lib\\site-packages (from requests>=2.19->qiskit_ibm_runtime) (2024.2.2)\n",
      "Requirement already satisfied: cryptography>=1.3 in c:\\users\\admin\\miniconda3\\envs\\qiskit\\lib\\site-packages (from requests-ntlm>=1.1.0->qiskit_ibm_runtime) (42.0.5)\n",
      "Requirement already satisfied: pyspnego>=0.1.6 in c:\\users\\admin\\miniconda3\\envs\\qiskit\\lib\\site-packages (from requests-ntlm>=1.1.0->qiskit_ibm_runtime) (0.10.2)\n",
      "Requirement already satisfied: annotated-types>=0.4.0 in c:\\users\\admin\\miniconda3\\envs\\qiskit\\lib\\site-packages (from pydantic->qiskit_ibm_runtime) (0.6.0)\n",
      "Requirement already satisfied: pydantic-core==2.18.2 in c:\\users\\admin\\miniconda3\\envs\\qiskit\\lib\\site-packages (from pydantic->qiskit_ibm_runtime) (2.18.2)\n",
      "Requirement already satisfied: cffi>=1.12 in c:\\users\\admin\\miniconda3\\envs\\qiskit\\lib\\site-packages (from cryptography>=1.3->requests-ntlm>=1.1.0->qiskit_ibm_runtime) (1.16.0)\n",
      "Requirement already satisfied: PyJWT<3.0.0,>=2.8.0 in c:\\users\\admin\\miniconda3\\envs\\qiskit\\lib\\site-packages (from ibm-cloud-sdk-core<4.0.0,>=3.19.2->ibm-platform-services>=0.22.6->qiskit_ibm_runtime) (2.8.0)\n",
      "Requirement already satisfied: sspilib>=0.1.0 in c:\\users\\admin\\miniconda3\\envs\\qiskit\\lib\\site-packages (from pyspnego>=0.1.6->requests-ntlm>=1.1.0->qiskit_ibm_runtime) (0.1.0)\n",
      "Requirement already satisfied: pbr!=2.1.0,>=2.0.0 in c:\\users\\admin\\miniconda3\\envs\\qiskit\\lib\\site-packages (from stevedore>=3.0.0->qiskit>=1.0.0->qiskit_ibm_runtime) (6.0.0)\n",
      "Requirement already satisfied: mpmath>=0.19 in c:\\users\\admin\\miniconda3\\envs\\qiskit\\lib\\site-packages (from sympy>=1.3->qiskit>=1.0.0->qiskit_ibm_runtime) (1.3.0)\n",
      "Requirement already satisfied: pycparser in c:\\users\\admin\\miniconda3\\envs\\qiskit\\lib\\site-packages (from cffi>=1.12->cryptography>=1.3->requests-ntlm>=1.1.0->qiskit_ibm_runtime) (2.22)\n"
     ]
    }
   ],
   "source": [
    "%pip install qiskit_ibm_runtime\n",
    "from qiskit_ibm_runtime import (QiskitRuntimeService)\n",
    "\n",
    "QiskitRuntimeService.save_account(\n",
    "    channel=\"ibm_quantum\",\n",
    "    token=\"YOUR_TOKEN\",\n",
    "    set_as_default=True,\n",
    "    # Use overwrite=True if you're updating your token.\n",
    "    overwrite=True,\n",
    ")\n",
    "service = QiskitRuntimeService() "
   ]
  },
  {
   "cell_type": "code",
   "execution_count": 17,
   "id": "64090b86-df38-4a51-aaab-f0929c2c85e1",
   "metadata": {},
   "outputs": [],
   "source": [
    "from qiskit_ibm_runtime import QiskitRuntimeService\n",
    "\n",
    "QiskitRuntimeService.save_account(channel = \"ibm_quantum\", token=\"YOUR_TOKEN\",\n",
    "                                  set_as_default=True, overwrite=True,)\n",
    "\n",
    "service = QiskitRuntimeService()"
   ]
  },
  {
   "cell_type": "code",
   "execution_count": 18,
   "id": "fc8302d0-0971-4b7b-938b-de056bba5ccb",
   "metadata": {},
   "outputs": [],
   "source": [
    "BACKEND = service.backend(name=\"ibm_brisbane\")\n",
    "\n",
    "PATH_ANSWER = [0,1,2,3]"
   ]
  },
  {
   "cell_type": "code",
   "execution_count": 19,
   "id": "711227a1-718b-4fd5-9974-58ace1f7eaeb",
   "metadata": {},
   "outputs": [
    {
     "name": "stdout",
     "output_type": "stream",
     "text": [
      "Submitting your answer. Please wait...\n",
      "Nice work, all your answers look correct!\n"
     ]
    }
   ],
   "source": [
    "# grade part 1\n",
    "from qc_grader.challenges.qgss_2024 import grade_lab2_ex1\n",
    "grade_lab2_ex1(PATH_ANSWER, BACKEND)"
   ]
  },
  {
   "cell_type": "markdown",
   "id": "68f1fe00-14ff-41bf-8ce5-1b718119eb47",
   "metadata": {},
   "source": [
    "# 2"
   ]
  },
  {
   "cell_type": "code",
   "execution_count": 20,
   "id": "fb8537c6-bd7b-4656-b8d8-949289584923",
   "metadata": {},
   "outputs": [],
   "source": [
    "LAYER_1_ANSWER = [(1,0),(3,2)]\n",
    "LAYER_2_ANSWER = [(2,1)]"
   ]
  },
  {
   "cell_type": "code",
   "execution_count": 21,
   "id": "bbd39d53-1cc1-4789-b22c-246ed1f524a4",
   "metadata": {},
   "outputs": [
    {
     "name": "stdout",
     "output_type": "stream",
     "text": [
      "Submitting your answer. Please wait...\n",
      "Nice work, all your answers look correct!\n"
     ]
    }
   ],
   "source": [
    "# grade part 2\n",
    "from qc_grader.challenges.qgss_2024 import grade_lab2_ex2\n",
    "grade_lab2_ex2(LAYER_1_ANSWER, LAYER_2_ANSWER, PATH_ANSWER, BACKEND)"
   ]
  },
  {
   "cell_type": "markdown",
   "id": "623a22e9-9ec5-4488-b0fe-298c8ce1987d",
   "metadata": {},
   "source": [
    "# 3"
   ]
  },
  {
   "cell_type": "code",
   "execution_count": 22,
   "id": "378c2035-8877-43fd-83e8-9c8001532847",
   "metadata": {},
   "outputs": [
    {
     "name": "stdout",
     "output_type": "stream",
     "text": [
      "Requirement already satisfied: MODULE_NAME in c:\\users\\admin\\miniconda3\\envs\\qiskit\\lib\\site-packages (0.6.0)\n",
      "Note: you may need to restart the kernel to use updated packages.\n"
     ]
    }
   ],
   "source": [
    "%pip install MODULE_NAME"
   ]
  },
  {
   "cell_type": "code",
   "execution_count": 26,
   "id": "2520dd2f-c3f3-43b4-ada9-58b72522a147",
   "metadata": {},
   "outputs": [],
   "source": [
    "from qiskit import QuantumCircuit\n",
    "# Define the layers as provided\n",
    "LAYER_1_ANSWER = [(1, 0), (3, 2)]\n",
    "LAYER_2_ANSWER = [(2, 1)]\n",
    "\n",
    "# Select a two-qubit Clifford gate from the backend's basis gates\n",
    "GATE_NAME = 'cx'  # Assuming 'cx' (CNOT) is in backend.basis_gates\n",
    "\n",
    "# Construct the first circuit\n",
    "CIRC_1_ANSWER = QuantumCircuit(4)\n",
    "for qubit1, qubit2 in LAYER_1_ANSWER:\n",
    "    if GATE_NAME == 'cx':\n",
    "        CIRC_1_ANSWER.cx(qubit1, qubit2)\n",
    "    elif GATE_NAME == 'cz':\n",
    "        CIRC_1_ANSWER.cz(qubit1, qubit2)\n",
    "    elif GATE_NAME == 'ecr':\n",
    "        CIRC_1_ANSWER.ecr(qubit1, qubit2)\n",
    "\n",
    "# Construct the second circuit\n",
    "CIRC_2_ANSWER = QuantumCircuit(4)\n",
    "for qubit1, qubit2 in LAYER_2_ANSWER:\n",
    "    if GATE_NAME == 'cx':\n",
    "        CIRC_2_ANSWER.cx(qubit1, qubit2)\n",
    "    elif GATE_NAME == 'cz':\n",
    "        CIRC_2_ANSWER.cz(qubit1, qubit2)\n",
    "    elif GATE_NAME == 'ecr':\n",
    "        CIRC_2_ANSWER.ecr(qubit1, qubit2)"
   ]
  },
  {
   "cell_type": "code",
   "execution_count": 27,
   "id": "5c0bcd42-205d-4fa4-bb94-86f5082af2eb",
   "metadata": {},
   "outputs": [
    {
     "name": "stdout",
     "output_type": "stream",
     "text": [
      "Submitting your answer. Please wait...\n",
      "Nice work, all your answers look correct!\n",
      "Submitting your answer. Please wait...\n",
      "Nice work, all your answers look correct!\n"
     ]
    }
   ],
   "source": [
    "# grade part 3\n",
    "from qc_grader.challenges.qgss_2024 import grade_lab2_ex3\n",
    "grade_lab2_ex3(CIRC_1_ANSWER, LAYER_1_ANSWER, GATE_NAME, BACKEND)\n",
    "grade_lab2_ex3(CIRC_2_ANSWER, LAYER_2_ANSWER, GATE_NAME, BACKEND)"
   ]
  },
  {
   "cell_type": "code",
   "execution_count": 28,
   "id": "2944e4e3-f188-4480-8dad-0b414ebfae9d",
   "metadata": {},
   "outputs": [],
   "source": [
    "from qiskit.circuit import Parameter\n",
    "from qiskit.transpiler.preset_passmanagers import generate_preset_pass_manager\n",
    "\n",
    "def eplg_circuit(num_qubits: int, depth: int, layer: QuantumCircuit, qubits: tuple[int, ...]) -> QuantumCircuit:\n",
    "    if depth % 2 != 0:\n",
    "        raise ValueError(f\"The depth must be even, got {depth}\")\n",
    "\n",
    "    def parameters():\n",
    "        _depth = 0\n",
    "        while True:\n",
    "            for zi in range(3):\n",
    "                for q in range(num_qubits):\n",
    "                    yield Parameter(f\"d{_depth}_q{q}_z{zi}\")\n",
    "            _depth += 1\n",
    "    _parameters = parameters()\n",
    "\n",
    "    circ = QuantumCircuit(num_qubits)\n",
    "\n",
    "    def _1q_layer():\n",
    "        for j in range(3):\n",
    "            for k in qubits:\n",
    "                circ.rz(next(_parameters), k)\n",
    "            if j == 2:\n",
    "                continue\n",
    "            circ.sx(qubits)\n",
    "\n",
    "    for _depth in range(depth // 2):\n",
    "        circ.barrier(qubits)\n",
    "        _1q_layer()\n",
    "        circ.barrier(qubits)\n",
    "        circ.compose(layer, inplace=True)\n",
    "    circ.barrier(qubits)\n",
    "    _1q_layer()\n",
    "    circ.barrier(qubits)\n",
    "    \n",
    "    # Assuming mirroring is fine\n",
    "    circ = circ.compose(circ.inverse())\n",
    "\n",
    "    circ.measure_active()\n",
    "\n",
    "    pm = generate_preset_pass_manager(basis_gates=[\"ecr\", \"sx\", \"rz\"], optimization_level=0)\n",
    "    circ = pm.run(circ)\n",
    "\n",
    "    circ.metadata[\"layer_depth\"] = depth\n",
    "    circ.metadata[\"qubits\"] = qubits\n",
    "    circ.metadata[\"num_qubits\"] = num_qubits\n",
    "\n",
    "    return circ"
   ]
  },
  {
   "cell_type": "code",
   "execution_count": 29,
   "id": "ad40bd24-8178-42e3-9759-67a2e8517065",
   "metadata": {},
   "outputs": [],
   "source": [
    "example_circuit_1 = eplg_circuit(\n",
    "    num_qubits=BACKEND.num_qubits,\n",
    "    depth=4,\n",
    "    layer=CIRC_1_ANSWER,\n",
    "    qubits=PATH_ANSWER,\n",
    ")"
   ]
  },
  {
   "cell_type": "code",
   "execution_count": 30,
   "id": "a10d4c5e-847f-4908-8cfe-efd75199a904",
   "metadata": {},
   "outputs": [],
   "source": [
    "example_circuit_2 = eplg_circuit(\n",
    "    num_qubits=BACKEND.num_qubits,\n",
    "    depth=4,\n",
    "    layer=CIRC_2_ANSWER,\n",
    "    qubits=PATH_ANSWER,\n",
    ")"
   ]
  },
  {
   "cell_type": "markdown",
   "id": "13df7834-650b-4206-9dfc-06fc8d98f1aa",
   "metadata": {},
   "source": [
    "# 4"
   ]
  },
  {
   "cell_type": "code",
   "execution_count": 31,
   "id": "521c4994-4dbb-4b08-8fd0-1d88de27abc3",
   "metadata": {},
   "outputs": [],
   "source": [
    "import numpy as np\n",
    "\n",
    "from qiskit.primitives.containers.bindings_array import BindingsArray\n",
    "\n",
    "def get_clifford_rz_samples(\n",
    "    circ: QuantumCircuit,\n",
    "    num_samples: int,\n",
    "    rng: np.random.Generator,\n",
    ") -> BindingsArray:\n",
    "    \"\"\"Uniformly sample the Rz parameters in a `QuantumCircuit`\n",
    "    from -pi, -pi/2, 0, +pi/2, +pi.\n",
    "    \"\"\"\n",
    "\n",
    "    _allowed_ops = {'rz', 'sx', 'sxdg', 'ecr', 'barrier', 'measure'}\n",
    "    if (_other := set(circ.count_ops().keys()) - _allowed_ops):\n",
    "        raise ValueError(f\"Circuit must only contain ops: {_allowed_ops}, got {_other}\")\n",
    "\n",
    "    sampled_pars = rng.integers(-2, 3, size=(num_samples, len(circ.parameters))) * (np.pi/2)\n",
    "\n",
    "    return BindingsArray({\n",
    "        tuple(circ.parameters): sampled_pars\n",
    "    })"
   ]
  },
  {
   "cell_type": "code",
   "execution_count": 32,
   "id": "f073ddc9-520f-4c9b-a8a0-cfe323f72ff3",
   "metadata": {},
   "outputs": [],
   "source": [
    "num_samples = 10\n",
    "ARRAY_1_ANSWER = get_clifford_rz_samples(\n",
    "    circ=example_circuit_1,\n",
    "    num_samples=num_samples,\n",
    "    rng=np.random.default_rng(42))"
   ]
  },
  {
   "cell_type": "code",
   "execution_count": 33,
   "id": "8f310fa8-c51d-4a99-9413-1c4f174d4e2f",
   "metadata": {},
   "outputs": [
    {
     "name": "stdout",
     "output_type": "stream",
     "text": [
      "Submitting your answer. Please wait...\n",
      "Nice work, all your answers look correct! \n",
      " Notice that the shape of the BindingsArray is [10], and there are {num_parameters} parameters.\n"
     ]
    }
   ],
   "source": [
    "# grade part 4\n",
    "from qc_grader.challenges.qgss_2024 import grade_lab2_ex4\n",
    "grade_lab2_ex4(ARRAY_1_ANSWER, example_circuit_1, num_samples)"
   ]
  },
  {
   "cell_type": "code",
   "execution_count": null,
   "id": "ab05e0f9-c83d-4736-96fc-7bea99234fd4",
   "metadata": {},
   "outputs": [],
   "source": []
  }
 ],
 "metadata": {
  "kernelspec": {
   "display_name": "Python 3 (ipykernel)",
   "language": "python",
   "name": "python3"
  },
  "language_info": {
   "codemirror_mode": {
    "name": "ipython",
    "version": 3
   },
   "file_extension": ".py",
   "mimetype": "text/x-python",
   "name": "python",
   "nbconvert_exporter": "python",
   "pygments_lexer": "ipython3",
   "version": "3.12.3"
  }
 },
 "nbformat": 4,
 "nbformat_minor": 5
}
